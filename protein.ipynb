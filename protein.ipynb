{
 "cells": [
  {
   "cell_type": "code",
   "execution_count": null,
   "id": "d865acb9",
   "metadata": {},
   "outputs": [],
   "source": [
    "import torch\n",
    "from transformers import AutoTokenizer, AutoModelForMaskedLM\n",
    "\n",
    "tokenizer = AutoTokenizer.from_pretrained(\"esm2_t30_150m_ur50d\")\n",
    "model = AutoModelForMaskedLM.from_pretrained(\"esm2_t30_150m_ur50d\")"
   ]
  },
  {
   "cell_type": "code",
   "execution_count": null,
   "id": "490bc636",
   "metadata": {},
   "outputs": [],
   "source": [
    "# https://www.uniprot.org/uniprotkb"
   ]
  }
 ],
 "metadata": {
  "kernelspec": {
   "display_name": "Python 3",
   "language": "python",
   "name": "python3"
  },
  "language_info": {
   "name": "python",
   "version": "3.8.8"
  }
 },
 "nbformat": 4,
 "nbformat_minor": 5
}
