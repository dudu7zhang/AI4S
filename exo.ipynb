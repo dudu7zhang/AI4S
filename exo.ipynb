{
 "cells": [
  {
   "cell_type": "markdown",
   "id": "17d3f383",
   "metadata": {},
   "source": [
    "## Forward"
   ]
  },
  {
   "cell_type": "code",
   "execution_count": null,
   "id": "7fedde04",
   "metadata": {},
   "outputs": [],
   "source": [
    "import torch\n",
    "from evo2 import Evo2\n",
    "\n",
    "evo2_model = Evo2('evo2_7b')\n",
    "\n",
    "sequence = 'ACGT'\n",
    "input_ids = torch.tensor(\n",
    "    evo2_model.tokenizer.tokenize(sequence),\n",
    "    dtype=torch.int,\n",
    ").unsqueeze(0).to('cuda:0')\n",
    "\n",
    "outputs, _ = evo2_model(input_ids)\n",
    "logits = outputs[0]\n",
    "\n",
    "print('Logits: ', logits)\n",
    "print('Shape (batch, length, vocab): ', logits.shape)"
   ]
  },
  {
   "cell_type": "markdown",
   "id": "b9c8148b",
   "metadata": {},
   "source": [
    "## Embeddings"
   ]
  },
  {
   "cell_type": "code",
   "execution_count": null,
   "id": "82658fba",
   "metadata": {},
   "outputs": [],
   "source": [
    "import torch\n",
    "from evo2 import Evo2\n",
    "\n",
    "evo2_model = Evo2('evo2_7b')\n",
    "\n",
    "sequence = 'ACGT'\n",
    "input_ids = torch.tensor(\n",
    "    evo2_model.tokenizer.tokenize(sequence),\n",
    "    dtype=torch.int,\n",
    ").unsqueeze(0).to('cuda:0')\n",
    "\n",
    "layer_name = 'blocks.28.mlp.l3'\n",
    "\n",
    "outputs, embeddings = evo2_model(input_ids, return_embeddings=True, layer_names=[layer_name])\n",
    "\n",
    "print('Embeddings shape: ', embeddings[layer_name].shape)"
   ]
  },
  {
   "cell_type": "markdown",
   "id": "1c428d68",
   "metadata": {},
   "source": [
    "## Generation"
   ]
  },
  {
   "cell_type": "code",
   "execution_count": null,
   "id": "2805e816",
   "metadata": {},
   "outputs": [],
   "source": [
    "from evo2 import Evo2\n",
    "\n",
    "evo2_model = Evo2('evo2_7b')\n",
    "\n",
    "output = evo2_model.generate(prompt_seqs=[\"ACGT\"], n_tokens=400, temperature=1.0, top_k=4)\n",
    "\n",
    "print(output.sequences[0])"
   ]
  },
  {
   "cell_type": "markdown",
   "id": "c5b2e3ff",
   "metadata": {},
   "source": [
    "https://github.com/ArcInstitute/evo2/blob/main/notebooks/brca1/brca1_zero_shot_vep.ipynb\n",
    "\n",
    "https://github.com/ArcInstitute/evo2/blob/main/notebooks/generation/generation_notebook.ipynb"
   ]
  }
 ],
 "metadata": {
  "kernelspec": {
   "display_name": "Python 3",
   "language": "python",
   "name": "python3"
  },
  "language_info": {
   "name": "python",
   "version": "3.8.8"
  }
 },
 "nbformat": 4,
 "nbformat_minor": 5
}
